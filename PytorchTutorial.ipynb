{
  "nbformat": 4,
  "nbformat_minor": 0,
  "metadata": {
    "colab": {
      "provenance": [],
      "authorship_tag": "ABX9TyNyZzYPGGccLEAPX9V2DiUm",
      "include_colab_link": true
    },
    "kernelspec": {
      "name": "python3",
      "display_name": "Python 3"
    },
    "language_info": {
      "name": "python"
    }
  },
  "cells": [
    {
      "cell_type": "markdown",
      "metadata": {
        "id": "view-in-github",
        "colab_type": "text"
      },
      "source": [
        "<a href=\"https://colab.research.google.com/github/Sumitsarker90/Pytorch_Tutorial/blob/main/PytorchTutorial.ipynb\" target=\"_parent\"><img src=\"https://colab.research.google.com/assets/colab-badge.svg\" alt=\"Open In Colab\"/></a>"
      ]
    },
    {
      "cell_type": "code",
      "execution_count": null,
      "metadata": {
        "colab": {
          "base_uri": "https://localhost:8080/"
        },
        "id": "1BlNAu_JznJi",
        "outputId": "175bf8e5-b4c5-4360-eee3-8541b8d63e75"
      },
      "outputs": [
        {
          "output_type": "stream",
          "name": "stdout",
          "text": [
            "Hello world\n"
          ]
        }
      ],
      "source": [
        "print(\"Hello world\")"
      ]
    },
    {
      "cell_type": "code",
      "source": [
        "import torch\n",
        "import numpy as np"
      ],
      "metadata": {
        "id": "wpC3m9eEz1k5"
      },
      "execution_count": 1,
      "outputs": []
    },
    {
      "cell_type": "code",
      "source": [
        "my_list=[[1,2,3,4,5],[6,7,8,9,10]]\n",
        "my_list"
      ],
      "metadata": {
        "id": "e10opOqn4hnp",
        "outputId": "c02ff1e5-31b2-48ef-9aa0-928adbad99d7",
        "colab": {
          "base_uri": "https://localhost:8080/"
        }
      },
      "execution_count": 3,
      "outputs": [
        {
          "output_type": "execute_result",
          "data": {
            "text/plain": [
              "[[1, 2, 3, 4, 5], [6, 7, 8, 9, 10]]"
            ]
          },
          "metadata": {},
          "execution_count": 3
        }
      ]
    },
    {
      "cell_type": "markdown",
      "source": [
        "# Numpy arrays"
      ],
      "metadata": {
        "id": "kaGRfn5F5WfP"
      }
    },
    {
      "cell_type": "code",
      "source": [
        "np1=np.random.rand(3,5)\n",
        "np1\n",
        "\n"
      ],
      "metadata": {
        "id": "KE3EGAPd4zb2",
        "outputId": "c6455f5c-a49a-4043-c43e-870e639a2865",
        "colab": {
          "base_uri": "https://localhost:8080/"
        }
      },
      "execution_count": 10,
      "outputs": [
        {
          "output_type": "execute_result",
          "data": {
            "text/plain": [
              "array([[0.09099926, 0.54472309, 0.92205356, 0.80984274, 0.75245886],\n",
              "       [0.13202837, 0.32728018, 0.84671603, 0.02765364, 0.1420894 ],\n",
              "       [0.97241696, 0.08801414, 0.07596683, 0.17075291, 0.042941  ]])"
            ]
          },
          "metadata": {},
          "execution_count": 10
        }
      ]
    },
    {
      "cell_type": "code",
      "source": [],
      "metadata": {
        "id": "yhkpxB6G5oHd"
      },
      "execution_count": 6,
      "outputs": []
    }
  ]
}